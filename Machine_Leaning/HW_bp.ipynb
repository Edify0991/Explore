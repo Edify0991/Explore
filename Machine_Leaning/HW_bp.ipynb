{
 "cells": [
  {
   "cell_type": "markdown",
   "id": "d62bbcc5",
   "metadata": {},
   "source": [
    "## BP神经网络\n",
    "\n",
    "根据BP神经网络原理，实现简单的BP神经网络(64, 100, 10)，并绘制网络结构简图和标注"
   ]
  },
  {
   "cell_type": "code",
   "execution_count": null,
   "id": "78be9954",
   "metadata": {},
   "outputs": [],
   "source": [
    "import numpy as np\n",
    "from matplotlib import pyplot as plt\n",
    "from sklearn.datasets import load_digits\n",
    "from sklearn.preprocessing import LabelBinarizer# 标签二值化\n",
    "from sklearn.model_selection import train_test_split # 切割数据"
   ]
  },
  {
   "cell_type": "code",
   "execution_count": null,
   "id": "1258582a",
   "metadata": {},
   "outputs": [],
   "source": [
    "digits = load_digits()# 载入数据\n",
    "X = digits.data# 数据\n",
    "y = digits.target# 标签\n",
    "\n",
    "# 数据归一化\n",
    "X -= X.min()\n",
    "X /= X.max()"
   ]
  },
  {
   "cell_type": "code",
   "execution_count": null,
   "id": "e638dd02",
   "metadata": {},
   "outputs": [],
   "source": [
    "def sigmoid(x):\n",
    "    return 1/(1+np.exp(-x))\n",
    " \n",
    "def dsigmoid(x):\n",
    "    return x*(1-x)"
   ]
  },
  {
   "cell_type": "code",
   "execution_count": null,
   "id": "ea9708e1",
   "metadata": {},
   "outputs": [],
   "source": [
    "############################# To do #############################\n",
    "class NeuralNetwork:\n",
    "    def __init__(self,layers):#(64,100,10)\n",
    "        \n",
    "        # 初始化网络\n",
    "        \n",
    "        \n",
    "        \n",
    "    def train(self,x_data,y_data,lr=0.1,epochs=10000):\n",
    "        accuracy = [] # 用来保存测试过程中的准确率\n",
    "        loss = [] # 用来保存测试时产生的代价函数的值\n",
    "        \n",
    "        for n in range(epochs+1):\n",
    "            \n",
    "            \n",
    "            # 更新权重\n",
    "        \n",
    "        \n",
    "        \n",
    "            #每训练1000次预测，输出一次预测准确率\n",
    "            if n % 1000 == 0 and n != 0:\n",
    "                predictions = []\n",
    "                for j in range(X_test.shape[0]):\n",
    "                    #获取预测结果：返回与十个标签值逼近的距离，数值最大的选为本次的预测值\n",
    "                    output = self.predict(X_test[j])\n",
    "                   #将最大的数值所对应的标签返回\n",
    "                    predictions.append(np.argmax(output))#获取预测结果\n",
    "                acc = np.mean(np.equal(predictions,y_test))\n",
    "                accuracy.append(acc)\n",
    "                cost = np.mean(np.square(y_test - predictions) / 2)\n",
    "                loss.append(cost)\n",
    "                #np.equal()：相同返回true，不同返回false\n",
    "                \n",
    "        return accuracy, loss\n",
    "        \n",
    "    def predict(self,x):\n",
    "        \n",
    "        # 计算输出层得到的结果\n",
    "        \n",
    "        return layer2"
   ]
  },
  {
   "cell_type": "code",
   "execution_count": null,
   "id": "a6d09c5c",
   "metadata": {},
   "outputs": [],
   "source": [
    "nn = NeuralNetwork([64,100,10])#创建网络\n",
    " \n",
    "X_train,X_test,y_train,y_test = train_test_split(X,y) #分割数据\n",
    "\n",
    "labels_train = LabelBinarizer().fit_transform(y_train)#标签二值化\n",
    "labels_test = LabelBinarizer().fit_transform(y_test)#标签二值化\n",
    "\n",
    "epoch = 20000\n",
    "accuracy, loss = nn.train(X_train,labels_train,epochs=epoch)"
   ]
  },
  {
   "cell_type": "code",
   "execution_count": null,
   "id": "652cf570",
   "metadata": {},
   "outputs": [],
   "source": [
    "# 训练结果可视化\n",
    "plt.subplot(2, 1, 1)\n",
    "plt.plot(range(0, epoch, int(epoch/len(loss))), loss)\n",
    "plt.ylabel('loss')\n",
    "plt.subplot(2, 1, 2)\n",
    "plt.plot(range(0, epoch, int(epoch/(len(accuracy)))), accuracy)\n",
    "plt.xlabel('epoch')\n",
    "plt.ylabel('accuracy')\n",
    "plt.show()"
   ]
  }
 ],
 "metadata": {
  "kernelspec": {
   "display_name": "Python 3",
   "language": "python",
   "name": "python3"
  },
  "language_info": {
   "codemirror_mode": {
    "name": "ipython",
    "version": 3
   },
   "file_extension": ".py",
   "mimetype": "text/x-python",
   "name": "python",
   "nbconvert_exporter": "python",
   "pygments_lexer": "ipython3",
   "version": "3.8.8"
  }
 },
 "nbformat": 4,
 "nbformat_minor": 5
}
