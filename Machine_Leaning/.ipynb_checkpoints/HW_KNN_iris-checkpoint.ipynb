{
 "cells": [
  {
   "cell_type": "markdown",
   "id": "4bfd4880",
   "metadata": {},
   "source": [
    "# 第一次作业\n",
    "根据课堂所学KNN原理，补全KNN核心运算代码\n",
    "\n",
    "并在本文件中实现功能，回答以下问题\n",
    "\n",
    "1. 不同k值对分类准确率的影响\n",
    "2. 采取另一种距离运算，是否会对分类结果造成影响(如曼哈顿距离)"
   ]
  },
  {
   "attachments": {
    "image.png": {
     "image/png": "[encoded data removed]"
    }
   },
   "cell_type": "markdown",
   "id": "f1094cec",
   "metadata": {},
   "source": [
    "### Markdown基础语法\n",
    "将该代码框调整为Markdown格式即可进行文本编辑\n",
    "![image.png](attachment:image.png)\n",
    "\n",
    "基础语法参考链接：https://www.jianshu.com/p/191d1e21f7ed/\n"
   ]
  },
  {
   "cell_type": "code",
   "execution_count": null,
   "id": "3916dcc7",
   "metadata": {},
   "outputs": [],
   "source": [
    "# 载入数据集\n",
    "import numpy as np\n",
    "import pandas as pd\n",
    "import matplotlib.pyplot as plt\n",
    "from sklearn import datasets\n",
    "from sklearn.model_selection import train_test_split"
   ]
  },
  {
   "cell_type": "code",
   "execution_count": null,
   "id": "94340bec",
   "metadata": {},
   "outputs": [],
   "source": [
    "iris = datasets.load_iris()\n",
    "\n",
    "x = iris.data\n",
    "y = iris.target.reshape(-1,1)\n",
    "print(x.shape,y.shape)"
   ]
  },
  {
   "cell_type": "code",
   "execution_count": null,
   "id": "0265dd42",
   "metadata": {},
   "outputs": [],
   "source": [
    "#############################核心代码实现#############################\n",
    "\n",
    "# 欧氏距离\n",
    "def distance(a, b):\n",
    "    return\n",
    "\n",
    "# 分类器实现\n",
    "class kNN():\n",
    "    def def __init__():\n",
    "        \n",
    "        \n",
    "        \n",
    "    def fit():\n",
    "        \n",
    "        \n",
    "        \n",
    "    def predict():\n",
    "        "
   ]
  },
  {
   "cell_type": "code",
   "execution_count": null,
   "id": "f05fd86f",
   "metadata": {},
   "outputs": [],
   "source": [
    "# 将数据分为训练集和测试集，用来测试模型分类正确率\n",
    "X_train, X_test, Y_train, Y_test = train_test_split(x, y, test_size=0.3, random_state = 1)"
   ]
  },
  {
   "cell_type": "code",
   "execution_count": null,
   "id": "2009ddaa",
   "metadata": {},
   "outputs": [],
   "source": [
    "knn = kNN()\n",
    "knn.fit(X_train,Y_train)\n",
    "\n",
    "# 传入测试数据，做预测\n",
    "Y_pred = knn.predict(X_test)\n",
    "print('Prediction: ', Y_pred)\n",
    "\n",
    "# 实际结果\n",
    "print('Test value: ', Y_test)\n",
    "\n",
    "# 统计预测正确的个数\n",
    "num_correct = np.sum(Y_pred == Y_test)\n",
    "\n",
    "# 计算准确率\n",
    "accuracy = float(num_correct) / X_test.shape[0]\n",
    "print('Got %d / %d correct => accuracy: %f' % (num_correct, X_test.shape[0], accuracy))"
   ]
  },
  {
   "cell_type": "markdown",
   "id": "47a5904c",
   "metadata": {},
   "source": [
    "### 1. 不同k值对分类准确率的影响"
   ]
  },
  {
   "cell_type": "code",
   "execution_count": null,
   "id": "99a0d56e",
   "metadata": {},
   "outputs": [],
   "source": [
    "# 定义一个knn实例\n",
    "knn = kNN()\n",
    "\n",
    "# 训练模型\n",
    "knn.fit(x_train,y_train)\n",
    "\n",
    "result_list = []\n",
    "\n",
    "#考虑不同k值\n",
    "for k in range(1,10,2):\n",
    "    \n",
    "    # To do\n",
    "    \n",
    "    \n",
    "    \n",
    "    \n",
    "    result_list.append([k, accuracy])\n",
    "\n",
    "pd.DataFrame(result_list,columns = ['k','预测准确率'])"
   ]
  },
  {
   "cell_type": "markdown",
   "id": "7508f050",
   "metadata": {},
   "source": [
    "### 2. 采取另一种距离运算，是否会对分类结果造成影响(如曼哈顿距离)\n",
    "$$\n",
    "曼哈顿距离\\qquad dist = |x_1-x_2|+|y_1-y_2|\n",
    "$$"
   ]
  },
  {
   "cell_type": "code",
   "execution_count": null,
   "id": "1e57d92f",
   "metadata": {},
   "outputs": [],
   "source": [
    "def distance2():\n",
    "    return\n",
    "\n",
    "knn = kNN(dist_func = distance2)"
   ]
  }
 ],
 "metadata": {
  "kernelspec": {
   "display_name": "Python 3 (ipykernel)",
   "language": "python",
   "name": "python3"
  },
  "language_info": {
   "codemirror_mode": {
    "name": "ipython",
    "version": 3
   },
   "file_extension": ".py",
   "mimetype": "text/x-python",
   "name": "python",
   "nbconvert_exporter": "python",
   "pygments_lexer": "ipython3",
   "version": "3.9.16"
  }
 },
 "nbformat": 4,
 "nbformat_minor": 5
}
